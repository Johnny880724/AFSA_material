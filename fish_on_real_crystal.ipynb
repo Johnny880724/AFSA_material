{
  "nbformat": 4,
  "nbformat_minor": 0,
  "metadata": {
    "colab": {
      "provenance": [],
      "include_colab_link": true
    },
    "kernelspec": {
      "name": "python3",
      "display_name": "Python 3"
    },
    "language_info": {
      "name": "python"
    }
  },
  "cells": [
    {
      "cell_type": "markdown",
      "metadata": {
        "id": "view-in-github",
        "colab_type": "text"
      },
      "source": [
        "<a href=\"https://colab.research.google.com/github/Johnny880724/AFSA_material/blob/main/fish_on_real_crystal.ipynb\" target=\"_parent\"><img src=\"https://colab.research.google.com/assets/colab-badge.svg\" alt=\"Open In Colab\"/></a>"
      ]
    },
    {
      "cell_type": "code",
      "execution_count": 13,
      "metadata": {
        "colab": {
          "base_uri": "https://localhost:8080/"
        },
        "id": "X-_P1lRheu7P",
        "outputId": "736eef72-f01a-4e13-d059-8d9840a7c7a0"
      },
      "outputs": [
        {
          "output_type": "stream",
          "name": "stdout",
          "text": [
            "Drive already mounted at /content/drive; to attempt to forcibly remount, call drive.mount(\"/content/drive\", force_remount=True).\n",
            "Calculated Bounds for Each Dimension:\n",
            "[[  1.621  84.27 ]\n",
            " [-20.     17.93 ]\n",
            " [-41.37   42.61 ]\n",
            " [  0.      0.   ]\n",
            " [  3.215  90.53 ]\n",
            " [-23.85  141.7  ]\n",
            " [  0.      0.   ]\n",
            " [  0.      0.   ]\n",
            " [  3.704  66.77 ]]\n",
            "-153.5799\n",
            "Matrix Loaded from File:\n",
            "[ 4.961e+00  6.140e-16 -3.787e+00  0.000e+00  1.864e+01  4.770e-15\n",
            "  0.000e+00  0.000e+00  6.941e+00]\n"
          ]
        }
      ],
      "source": [
        "# Step 1: Mount Google Drive to access your files\n",
        "from google.colab import drive\n",
        "drive.mount('/content/drive')\n",
        "\n",
        "# Step 2: Import necessary libraries\n",
        "import numpy as np\n",
        "\n",
        "# Step 3: Define the path to your .txt file\n",
        "# You can find the path after mounting your Google Drive.\n",
        "# Make sure to adjust the path based on where your file is located in Drive.\n",
        "file_path = '/content/drive/MyDrive/crystal data/5A_parsed_file.txt'\n",
        "\n",
        "# Step 4: Load the .txt file into a NumPy array\n",
        "# Assuming the file is space-separated, but adjust delimiter if needed\n",
        "matrix = np.loadtxt(file_path)\n",
        "\n",
        "coordinates = matrix[:, 1:]  # Extract all rows except the first\n",
        "bounds = np.array([[np.min(coordinates[:, i]), np.max(coordinates[:, i])] for i in range(coordinates.shape[1])])\n",
        "\n",
        "# Step 6: Display the calculated bounds\n",
        "print(\"Calculated Bounds for Each Dimension:\")\n",
        "print(bounds)\n",
        "\n",
        "# Step 5: Display the matrix\n",
        "\n",
        "print(np.min(matrix[:, 0]))\n",
        "print(\"Matrix Loaded from File:\")\n",
        "print(coordinates[1])\n"
      ]
    },
    {
      "cell_type": "markdown",
      "source": [
        "MultiGaussian fitting"
      ],
      "metadata": {
        "id": "nMlk0APbe9ZO"
      }
    },
    {
      "cell_type": "code",
      "source": [
        "import numpy as np\n",
        "from sklearn.gaussian_process import GaussianProcessRegressor\n",
        "from sklearn.gaussian_process.kernels import RBF, ConstantKernel as C\n",
        "\n",
        "def fit_gaussian_process(input_array):\n",
        "    \"\"\"\n",
        "    Fit a Gaussian Process model to the provided n-dimensional array.\n",
        "\n",
        "    Args:\n",
        "    - input_array (np.ndarray): The n-dimensional array where the first row contains energy (z-values)\n",
        "                                and the subsequent rows represent the coordinates in n-dimensional space.\n",
        "\n",
        "    Returns:\n",
        "    - gp (GaussianProcessRegressor): The trained Gaussian Process model.\n",
        "    \"\"\"\n",
        "    # Separate the energy (first row) and location data (other rows)\n",
        "    energy_values = input_array[0, :]  # Energy values (z)\n",
        "    location_data = input_array[1:, :].T  # Location data (x, y, ...)\n",
        "\n",
        "    # Define the kernel: we use a product of constant kernel and RBF kernel (Gaussian kernel)\n",
        "    kernel = C(1.0, (1e-4, 1e1)) * RBF(1.0, (1e-4, 1e1))  # Constant * RBF kernel\n",
        "\n",
        "    # Initialize the GaussianProcessRegressor with the kernel\n",
        "    gp = GaussianProcessRegressor(kernel=kernel, n_restarts_optimizer=10)\n",
        "\n",
        "    # Fit the GP model to the data\n",
        "    gp.fit(location_data, energy_values)\n",
        "\n",
        "    return gp\n",
        "\n",
        "def predict_energy(gp, location):\n",
        "    \"\"\"\n",
        "    Predict the energy at a given location using the fitted Gaussian Process model.\n",
        "\n",
        "    Args:\n",
        "    - gp (GaussianProcessRegressor): The trained Gaussian Process model.\n",
        "    - location (np.ndarray): The location for which to predict the energy.\n",
        "\n",
        "    Returns:\n",
        "    - energy (float): The predicted energy at the given location.\n",
        "    \"\"\"\n",
        "    # Ensure the location is in the right shape (1 x n_dim)\n",
        "    location = np.array(location).reshape(1, -1)\n",
        "\n",
        "    # Use the Gaussian Process model to predict the energy at the specified location\n",
        "    energy, _ = gp.predict(location, return_std=True)\n",
        "\n",
        "    return energy[0]  # Return the predicted energy value\n",
        "\n",
        "# Example Usage:\n",
        "# Input: An example n-dimensional array where the first row is energy, and others are coordinates.\n",
        "input_array = np.array([\n",
        "    [1.0, 2.0, 3.0, 4.0],  # Energy (z-values)\n",
        "    [0.0, 1.0, 2.0, 3.0],  # Location 1 (x)\n",
        "    [1.0, 1.5, 2.0, 2.5],  # Location 2 (y)\n",
        "])\n",
        "\n",
        "# Fit the Gaussian Process model to the input data\n",
        "gp_model = fit_gaussian_process(matrix.T)\n",
        "\n",
        "# Predict the energy at a new location (e.g., at location [2.5, 2.0])\n",
        "new_location = [0,1,0,0,0,1,1,0,1]\n",
        "\n",
        "predicted_energy = predict_energy(gp_model, new_location)\n",
        "\n",
        "# Output the predicted energy\n",
        "print(f\"Predicted energy at location {new_location}: {predicted_energy}\")\n"
      ],
      "metadata": {
        "id": "gJv6IZOge81U",
        "colab": {
          "base_uri": "https://localhost:8080/"
        },
        "outputId": "d4ca4dfb-2e13-4efa-fb57-7c0ff3815374"
      },
      "execution_count": 14,
      "outputs": [
        {
          "output_type": "stream",
          "name": "stdout",
          "text": [
            "Predicted energy at location [0, 1, 0, 0, 0, 1, 1, 0, 1]: -0.0004471366392596217\n"
          ]
        },
        {
          "output_type": "stream",
          "name": "stderr",
          "text": [
            "/usr/local/lib/python3.10/dist-packages/sklearn/gaussian_process/kernels.py:452: ConvergenceWarning: The optimal value found for dimension 0 of parameter k1__constant_value is close to the specified upper bound 10.0. Increasing the bound and calling fit again may find a better value.\n",
            "  warnings.warn(\n"
          ]
        }
      ]
    },
    {
      "cell_type": "markdown",
      "source": [
        "Fish sworm\n"
      ],
      "metadata": {
        "id": "libmu8-1e3KN"
      }
    },
    {
      "cell_type": "code",
      "source": [
        "import numpy as np\n",
        "\n",
        "class ArtificialFishSwarm:\n",
        "    def __init__(self, objective_function, n_dim, bounds, population_size=50, max_iter=100, step_size=0.1, visual_range=0.5):\n",
        "        self.objective_function = objective_function\n",
        "        self.n_dim = n_dim\n",
        "        self.bounds = bounds  # Bounds shape: (n_dim, 2)\n",
        "        self.population_size = population_size\n",
        "        self.max_iter = max_iter\n",
        "        self.step_size = step_size\n",
        "        self.visual_range = visual_range\n",
        "\n",
        "        # Initialize population (randomly within bounds)\n",
        "        self.population = np.random.uniform(\n",
        "            self.bounds[:, 0], self.bounds[:, 1], (self.population_size, self.n_dim)\n",
        "        )\n",
        "        # Fitness values for each fish\n",
        "        self.fitness = np.array([self.objective_function(ind) for ind in self.population])\n",
        "\n",
        "        # Global best solution\n",
        "        self.best_fish = self.population[np.argmin(self.fitness)]\n",
        "        self.best_fitness = np.min(self.fitness)\n",
        "\n",
        "    def move_fish(self, fish, target):\n",
        "        \"\"\"\n",
        "        Move a fish towards a target fish within the step size.\n",
        "        \"\"\"\n",
        "        direction = target - fish\n",
        "        distance = np.linalg.norm(direction)\n",
        "\n",
        "        if distance > 0:\n",
        "            direction = direction / distance  # Normalize direction\n",
        "\n",
        "        # Move the fish in the direction of the target\n",
        "        new_position = fish + self.step_size * direction\n",
        "\n",
        "        # Clip the new position to remain within bounds\n",
        "        return np.clip(new_position, self.bounds[:, 0], self.bounds[:, 1])\n",
        "\n",
        "    def search_neighborhood(self, fish):\n",
        "        \"\"\"\n",
        "        Search the neighborhood of a fish for a better position.\n",
        "        \"\"\"\n",
        "        best_fish_in_neighborhood = fish\n",
        "        best_fitness_in_neighborhood = self.objective_function(fish)\n",
        "\n",
        "        # Randomly explore the neighborhood\n",
        "        for _ in range(10):  # Arbitrary number of random searches\n",
        "            random_step = np.random.uniform(-self.visual_range, self.visual_range, self.n_dim)\n",
        "            candidate_fish = fish + random_step\n",
        "            candidate_fish = np.clip(candidate_fish, self.bounds[:, 0], self.bounds[:, 1])  # Clip within bounds\n",
        "            candidate_fitness = self.objective_function(candidate_fish)\n",
        "\n",
        "            if candidate_fitness < best_fitness_in_neighborhood:\n",
        "                best_fish_in_neighborhood = candidate_fish\n",
        "                best_fitness_in_neighborhood = candidate_fitness\n",
        "\n",
        "        return best_fish_in_neighborhood\n",
        "\n",
        "    def run(self):\n",
        "        \"\"\"\n",
        "        Run the Artificial Fish Swarm Algorithm to optimize the objective function.\n",
        "        \"\"\"\n",
        "        for iteration in range(self.max_iter):\n",
        "            for i in range(self.population_size):\n",
        "                fish = self.population[i]\n",
        "\n",
        "                # Search the neighborhood for a better position\n",
        "                best_fish_in_neighborhood = self.search_neighborhood(fish)\n",
        "\n",
        "                # Move towards the best position in the neighborhood\n",
        "                new_fish = self.move_fish(fish, best_fish_in_neighborhood)\n",
        "\n",
        "                # Update fitness\n",
        "                new_fitness = self.objective_function(new_fish)\n",
        "\n",
        "                # If the new position is better, update the fish\n",
        "                if new_fitness < self.fitness[i]:\n",
        "                    self.population[i] = new_fish\n",
        "                    self.fitness[i] = new_fitness\n",
        "\n",
        "                    # Update global best solution\n",
        "                    if new_fitness < self.best_fitness:\n",
        "                        self.best_fish = new_fish\n",
        "                        self.best_fitness = new_fitness\n",
        "\n",
        "            # Print progress\n",
        "            print(f\"Iteration {iteration + 1}: Best Fitness = {self.best_fitness}\")\n",
        "\n",
        "        return self.best_fish, self.best_fitness\n"
      ],
      "metadata": {
        "id": "6SaKwqGOeILi"
      },
      "execution_count": 15,
      "outputs": []
    },
    {
      "cell_type": "code",
      "source": [
        "# Example objective function using GP\n",
        "def gp_objective_function(location):\n",
        "    return predict_energy(gp_model, location)\n",
        "\n",
        "# Define the bounds for 9 dimensions (example: [0, 1] for each dimension)\n",
        "n_dim = 9\n",
        "#bounds = np.tile([0, 1], (n_dim, 1))\n",
        "\n",
        "# Create the AFSA object\n",
        "afsa = ArtificialFishSwarm(\n",
        "    objective_function=gp_objective_function,\n",
        "    n_dim=n_dim,\n",
        "    bounds=bounds,\n",
        "    population_size=50,\n",
        "    max_iter=200,\n",
        "    step_size=0.5,\n",
        "    visual_range=0.5\n",
        ")\n",
        "\n",
        "# Run the AFSA algorithm\n",
        "best_solution, best_fitness = afsa.run()\n",
        "\n",
        "# Output the results\n",
        "print(\"\\nGlobal Minimum Location:\", best_solution)\n",
        "print(\"Global Minimum Energy:\", best_fitness)\n"
      ],
      "metadata": {
        "id": "aiMGDqzdf-Wt",
        "colab": {
          "base_uri": "https://localhost:8080/"
        },
        "outputId": "e01d9a4a-5d4b-40d9-c7f2-f5c6f1d23530"
      },
      "execution_count": 17,
      "outputs": [
        {
          "output_type": "stream",
          "name": "stdout",
          "text": [
            "Iteration 1: Best Fitness = -4.931788102192442e-15\n",
            "Iteration 2: Best Fitness = -1.0763801052614142e-14\n",
            "Iteration 3: Best Fitness = -2.1858200651019658e-14\n",
            "Iteration 4: Best Fitness = -4.801618656999888e-14\n",
            "Iteration 5: Best Fitness = -1.4819336762258718e-13\n",
            "Iteration 6: Best Fitness = -3.6055156161713303e-13\n",
            "Iteration 7: Best Fitness = -6.294491314699331e-13\n",
            "Iteration 8: Best Fitness = -1.3616738948152905e-12\n",
            "Iteration 9: Best Fitness = -3.6271264573260613e-12\n",
            "Iteration 10: Best Fitness = -8.561416643319803e-12\n",
            "Iteration 11: Best Fitness = -2.3848173235400644e-11\n",
            "Iteration 12: Best Fitness = -3.586493841523771e-11\n",
            "Iteration 13: Best Fitness = -7.091400613326915e-11\n",
            "Iteration 14: Best Fitness = -1.8410576854070564e-10\n",
            "Iteration 15: Best Fitness = -3.8194701322285343e-10\n",
            "Iteration 16: Best Fitness = -1.0534046774880107e-09\n",
            "Iteration 17: Best Fitness = -2.683164486632057e-09\n",
            "Iteration 18: Best Fitness = -5.135860781305601e-09\n",
            "Iteration 19: Best Fitness = -1.1062047746465439e-08\n",
            "Iteration 20: Best Fitness = -3.025235550747851e-08\n",
            "Iteration 21: Best Fitness = -5.8191186829376606e-08\n",
            "Iteration 22: Best Fitness = -1.2487229974321104e-07\n",
            "Iteration 23: Best Fitness = -2.1772534024114257e-07\n",
            "Iteration 24: Best Fitness = -4.834426359098461e-07\n",
            "Iteration 25: Best Fitness = -9.65320183830646e-07\n",
            "Iteration 26: Best Fitness = -2.336740080391332e-06\n",
            "Iteration 27: Best Fitness = -5.5647341102211795e-06\n",
            "Iteration 28: Best Fitness = -1.1956597451981678e-05\n",
            "Iteration 29: Best Fitness = -2.0773187090846768e-05\n",
            "Iteration 30: Best Fitness = -3.353549361974669e-05\n",
            "Iteration 31: Best Fitness = -6.838155296815238e-05\n",
            "Iteration 32: Best Fitness = -0.00010673144761750414\n",
            "Iteration 33: Best Fitness = -0.00021812093853736884\n",
            "Iteration 34: Best Fitness = -0.0004319084440866323\n",
            "Iteration 35: Best Fitness = -0.0007123425729340201\n",
            "Iteration 36: Best Fitness = -0.0012153099965673268\n",
            "Iteration 37: Best Fitness = -0.0017614534345266242\n",
            "Iteration 38: Best Fitness = -0.003127551153912993\n",
            "Iteration 39: Best Fitness = -0.004860029341838791\n",
            "Iteration 40: Best Fitness = -0.007957731482772665\n",
            "Iteration 41: Best Fitness = -0.015262142324790158\n",
            "Iteration 42: Best Fitness = -0.01935416885017413\n",
            "Iteration 43: Best Fitness = -0.032384824315120575\n",
            "Iteration 44: Best Fitness = -0.058405455825288145\n",
            "Iteration 45: Best Fitness = -0.09175743723684272\n",
            "Iteration 46: Best Fitness = -0.13004492444387336\n",
            "Iteration 47: Best Fitness = -0.19860435358485096\n",
            "Iteration 48: Best Fitness = -0.27242027960693765\n",
            "Iteration 49: Best Fitness = -0.4788367200595892\n",
            "Iteration 50: Best Fitness = -0.6710929688863667\n",
            "Iteration 51: Best Fitness = -0.9979142689256071\n",
            "Iteration 52: Best Fitness = -1.3123214536741452\n",
            "Iteration 53: Best Fitness = -1.671934353761016\n",
            "Iteration 54: Best Fitness = -2.205537679944583\n",
            "Iteration 55: Best Fitness = -3.075548427959997\n",
            "Iteration 56: Best Fitness = -3.9401787899128022\n",
            "Iteration 57: Best Fitness = -5.868105465474377\n",
            "Iteration 58: Best Fitness = -7.805188979910651\n",
            "Iteration 59: Best Fitness = -9.678592027755219\n",
            "Iteration 60: Best Fitness = -10.891070275772554\n",
            "Iteration 61: Best Fitness = -14.315130697207142\n",
            "Iteration 62: Best Fitness = -19.29693438735449\n",
            "Iteration 63: Best Fitness = -21.800905896827178\n",
            "Iteration 64: Best Fitness = -23.604481008298393\n",
            "Iteration 65: Best Fitness = -27.416806948583208\n",
            "Iteration 66: Best Fitness = -32.49786274545524\n",
            "Iteration 67: Best Fitness = -38.648663944813414\n",
            "Iteration 68: Best Fitness = -44.45478823061993\n",
            "Iteration 69: Best Fitness = -54.42837823654468\n",
            "Iteration 70: Best Fitness = -66.42678245453351\n",
            "Iteration 71: Best Fitness = -77.74138854722173\n",
            "Iteration 72: Best Fitness = -84.6230864478502\n",
            "Iteration 73: Best Fitness = -94.36203467335065\n",
            "Iteration 74: Best Fitness = -106.83071606053068\n",
            "Iteration 75: Best Fitness = -118.61550134460707\n",
            "Iteration 76: Best Fitness = -131.06429813213347\n",
            "Iteration 77: Best Fitness = -139.35310046182406\n",
            "Iteration 78: Best Fitness = -144.39520380119785\n",
            "Iteration 79: Best Fitness = -152.40166560187498\n",
            "Iteration 80: Best Fitness = -157.0671220307513\n",
            "Iteration 81: Best Fitness = -158.43697001926245\n",
            "Iteration 82: Best Fitness = -158.43697001926245\n",
            "Iteration 83: Best Fitness = -162.01808640596073\n",
            "Iteration 84: Best Fitness = -162.01808640596073\n",
            "Iteration 85: Best Fitness = -162.37248754651608\n",
            "Iteration 86: Best Fitness = -162.6494038156626\n",
            "Iteration 87: Best Fitness = -162.6494038156626\n",
            "Iteration 88: Best Fitness = -162.6494038156626\n",
            "Iteration 89: Best Fitness = -162.6494038156626\n",
            "Iteration 90: Best Fitness = -162.6494038156626\n",
            "Iteration 91: Best Fitness = -164.27857489264\n",
            "Iteration 92: Best Fitness = -169.50734310634377\n",
            "Iteration 93: Best Fitness = -174.70733733707777\n",
            "Iteration 94: Best Fitness = -177.42845060710442\n",
            "Iteration 95: Best Fitness = -177.42845060710442\n",
            "Iteration 96: Best Fitness = -177.42845060710442\n",
            "Iteration 97: Best Fitness = -177.42845060710442\n",
            "Iteration 98: Best Fitness = -177.42845060710442\n",
            "Iteration 99: Best Fitness = -177.42845060710442\n",
            "Iteration 100: Best Fitness = -177.42845060710442\n",
            "Iteration 101: Best Fitness = -177.42845060710442\n",
            "Iteration 102: Best Fitness = -177.42845060710442\n",
            "Iteration 103: Best Fitness = -177.42845060710442\n",
            "Iteration 104: Best Fitness = -177.42845060710442\n",
            "Iteration 105: Best Fitness = -177.42845060710442\n",
            "Iteration 106: Best Fitness = -178.17560560714804\n",
            "Iteration 107: Best Fitness = -178.17560560714804\n",
            "Iteration 108: Best Fitness = -178.17560560714804\n",
            "Iteration 109: Best Fitness = -178.17560560714804\n",
            "Iteration 110: Best Fitness = -178.17560560714804\n",
            "Iteration 111: Best Fitness = -178.17560560714804\n",
            "Iteration 112: Best Fitness = -178.17560560714804\n",
            "Iteration 113: Best Fitness = -178.17560560714804\n",
            "Iteration 114: Best Fitness = -178.17560560714804\n",
            "Iteration 115: Best Fitness = -178.17560560714804\n",
            "Iteration 116: Best Fitness = -178.17560560714804\n",
            "Iteration 117: Best Fitness = -178.17560560714804\n",
            "Iteration 118: Best Fitness = -178.17560560714804\n",
            "Iteration 119: Best Fitness = -178.17560560714804\n",
            "Iteration 120: Best Fitness = -178.17560560714804\n",
            "Iteration 121: Best Fitness = -178.17560560714804\n",
            "Iteration 122: Best Fitness = -178.17560560714804\n",
            "Iteration 123: Best Fitness = -178.17560560714804\n",
            "Iteration 124: Best Fitness = -178.17560560714804\n",
            "Iteration 125: Best Fitness = -178.17560560714804\n",
            "Iteration 126: Best Fitness = -178.17560560714804\n",
            "Iteration 127: Best Fitness = -178.17560560714804\n",
            "Iteration 128: Best Fitness = -178.17560560714804\n",
            "Iteration 129: Best Fitness = -178.17560560714804\n",
            "Iteration 130: Best Fitness = -178.17560560714804\n",
            "Iteration 131: Best Fitness = -178.17560560714804\n",
            "Iteration 132: Best Fitness = -178.17560560714804\n",
            "Iteration 133: Best Fitness = -178.17560560714804\n",
            "Iteration 134: Best Fitness = -178.17560560714804\n",
            "Iteration 135: Best Fitness = -178.17560560714804\n",
            "Iteration 136: Best Fitness = -178.17560560714804\n",
            "Iteration 137: Best Fitness = -178.17560560714804\n",
            "Iteration 138: Best Fitness = -178.17560560714804\n",
            "Iteration 139: Best Fitness = -178.17560560714804\n",
            "Iteration 140: Best Fitness = -178.17560560714804\n",
            "Iteration 141: Best Fitness = -178.17560560714804\n",
            "Iteration 142: Best Fitness = -178.17560560714804\n",
            "Iteration 143: Best Fitness = -178.17560560714804\n",
            "Iteration 144: Best Fitness = -178.17560560714804\n",
            "Iteration 145: Best Fitness = -178.17560560714804\n",
            "Iteration 146: Best Fitness = -178.17560560714804\n",
            "Iteration 147: Best Fitness = -178.17560560714804\n",
            "Iteration 148: Best Fitness = -178.17560560714804\n",
            "Iteration 149: Best Fitness = -178.17560560714804\n",
            "Iteration 150: Best Fitness = -178.17560560714804\n",
            "Iteration 151: Best Fitness = -178.17560560714804\n",
            "Iteration 152: Best Fitness = -178.17560560714804\n",
            "Iteration 153: Best Fitness = -178.17560560714804\n",
            "Iteration 154: Best Fitness = -178.17560560714804\n",
            "Iteration 155: Best Fitness = -178.17560560714804\n",
            "Iteration 156: Best Fitness = -178.17560560714804\n",
            "Iteration 157: Best Fitness = -178.17560560714804\n",
            "Iteration 158: Best Fitness = -178.17560560714804\n",
            "Iteration 159: Best Fitness = -178.17560560714804\n",
            "Iteration 160: Best Fitness = -178.17560560714804\n",
            "Iteration 161: Best Fitness = -178.17560560714804\n",
            "Iteration 162: Best Fitness = -178.17560560714804\n",
            "Iteration 163: Best Fitness = -178.17560560714804\n",
            "Iteration 164: Best Fitness = -178.17560560714804\n",
            "Iteration 165: Best Fitness = -178.17560560714804\n",
            "Iteration 166: Best Fitness = -178.17560560714804\n",
            "Iteration 167: Best Fitness = -178.17560560714804\n",
            "Iteration 168: Best Fitness = -178.17560560714804\n",
            "Iteration 169: Best Fitness = -178.17560560714804\n",
            "Iteration 170: Best Fitness = -178.17560560714804\n",
            "Iteration 171: Best Fitness = -178.17560560714804\n",
            "Iteration 172: Best Fitness = -178.17560560714804\n",
            "Iteration 173: Best Fitness = -178.17560560714804\n",
            "Iteration 174: Best Fitness = -178.17560560714804\n",
            "Iteration 175: Best Fitness = -178.17560560714804\n",
            "Iteration 176: Best Fitness = -178.17560560714804\n",
            "Iteration 177: Best Fitness = -178.17560560714804\n",
            "Iteration 178: Best Fitness = -178.17560560714804\n",
            "Iteration 179: Best Fitness = -178.17560560714804\n",
            "Iteration 180: Best Fitness = -178.17560560714804\n",
            "Iteration 181: Best Fitness = -178.17560560714804\n",
            "Iteration 182: Best Fitness = -178.17560560714804\n",
            "Iteration 183: Best Fitness = -178.17560560714804\n",
            "Iteration 184: Best Fitness = -178.17560560714804\n",
            "Iteration 185: Best Fitness = -178.17560560714804\n",
            "Iteration 186: Best Fitness = -178.17560560714804\n",
            "Iteration 187: Best Fitness = -178.17560560714804\n",
            "Iteration 188: Best Fitness = -178.17560560714804\n",
            "Iteration 189: Best Fitness = -178.17560560714804\n",
            "Iteration 190: Best Fitness = -178.17560560714804\n",
            "Iteration 191: Best Fitness = -178.17560560714804\n",
            "Iteration 192: Best Fitness = -178.17560560714804\n",
            "Iteration 193: Best Fitness = -178.17560560714804\n",
            "Iteration 194: Best Fitness = -178.17560560714804\n",
            "Iteration 195: Best Fitness = -178.17560560714804\n",
            "Iteration 196: Best Fitness = -178.17560560714804\n",
            "Iteration 197: Best Fitness = -178.17560560714804\n",
            "Iteration 198: Best Fitness = -178.17560560714804\n",
            "Iteration 199: Best Fitness = -178.17560560714804\n",
            "Iteration 200: Best Fitness = -178.17560560714804\n",
            "\n",
            "Global Minimum Location: [ 1.24368479e+01  5.76816915e-02 -9.73402799e-02  0.00000000e+00\n",
            "  8.75174766e+01 -3.00491129e-01  0.00000000e+00  0.00000000e+00\n",
            "  4.81151584e+00]\n",
            "Global Minimum Energy: -178.17560560714804\n"
          ]
        }
      ]
    },
    {
      "cell_type": "code",
      "source": [
        "import numpy as np\n",
        "from sklearn.gaussian_process import GaussianProcessRegressor\n",
        "from sklearn.gaussian_process.kernels import RBF, ConstantKernel as C\n",
        "from scipy.optimize import minimize\n",
        "\n",
        "\n",
        "\n",
        "# Step 3: Define the objective function for optimization\n",
        "def objective_function(location, gp):\n",
        "    \"\"\"\n",
        "    Objective function for optimization. Returns the energy value at a given location.\n",
        "\n",
        "    Args:\n",
        "    - location (list or np.ndarray): The location for which the energy needs to be minimized.\n",
        "    - gp (GaussianProcessRegressor): The trained Gaussian Process model.\n",
        "\n",
        "    Returns:\n",
        "    - float: The energy value (to minimize).\n",
        "    \"\"\"\n",
        "    return predict_energy(gp, location)\n",
        "\n",
        "# Define the bounds for optimization as a list of tuples\n",
        "opt_bounds = [tuple(b) for b in bounds]\n",
        "\n",
        "# Generate uniformly distributed starting points\n",
        "num_starting_points = 2000\n",
        "starting_points = np.array([\n",
        "    [np.random.uniform(b[0], b[1]) for b in opt_bounds]\n",
        "    for _ in range(num_starting_points)\n",
        "])\n",
        "\n",
        "# Perform optimization from each starting point\n",
        "optimization_results = []\n",
        "for start in starting_points:\n",
        "    res = minimize(\n",
        "        objective_function,\n",
        "        x0=start,\n",
        "        args=(gp_model,),\n",
        "        bounds=opt_bounds,\n",
        "        method='L-BFGS-B'\n",
        "    )\n",
        "    optimization_results.append(res)\n",
        "\n",
        "# Extract the best result\n",
        "best_result = min(optimization_results, key=lambda r: r.fun)\n",
        "\n",
        "# Output results\n",
        "print(\"Optimization Results:\")\n",
        "print(f\"Optimal location: {best_result.x}\")\n",
        "print(f\"Minimum energy: {best_result.fun}\")"
      ],
      "metadata": {
        "colab": {
          "base_uri": "https://localhost:8080/"
        },
        "id": "l9WrEGg72Oy-",
        "outputId": "8a0a5535-0585-4f28-883c-a4ea7c20a943"
      },
      "execution_count": null,
      "outputs": [
        {
          "output_type": "stream",
          "name": "stdout",
          "text": [
            "Optimization Results:\n",
            "Optimal location: [ 1.25587486e+01  6.58293424e-07  5.74985841e-07  0.00000000e+00\n",
            "  8.75475664e+01 -4.23073840e-01  0.00000000e+00  0.00000000e+00\n",
            "  4.80781743e+00]\n",
            "Minimum energy: -178.5854168965863\n"
          ]
        }
      ]
    },
    {
      "cell_type": "code",
      "source": [
        "# Generate uniformly distributed starting points\n",
        "num_starting_points = 2500\n",
        "starting_points = np.array([\n",
        "    [np.random.uniform(b[0], b[1]) for b in opt_bounds]\n",
        "    for _ in range(num_starting_points)\n",
        "])\n",
        "\n",
        "# Perform optimization from each starting point\n",
        "optimization_results = []\n",
        "for start in starting_points:\n",
        "    res = minimize(\n",
        "        objective_function,\n",
        "        x0=start,\n",
        "        args=(gp_model,),\n",
        "        bounds=opt_bounds,\n",
        "        method='L-BFGS-B'\n",
        "    )\n",
        "    optimization_results.append(res)\n",
        "\n",
        "# Extract the best result\n",
        "best_result = min(optimization_results, key=lambda r: r.fun)\n",
        "\n",
        "# Output results\n",
        "print(\"Optimization Results:\")\n",
        "print(f\"Optimal location: {best_result.x}\")\n",
        "print(f\"Minimum energy: {best_result.fun}\")"
      ],
      "metadata": {
        "id": "jNwH7bp3XrRj",
        "outputId": "da4ceaab-f0ab-4e81-f0f5-138d49bd45a3",
        "colab": {
          "base_uri": "https://localhost:8080/"
        }
      },
      "execution_count": null,
      "outputs": [
        {
          "output_type": "stream",
          "name": "stdout",
          "text": [
            "Optimization Results:\n",
            "Optimal location: [ 4.29722043  0.40480062 -1.04282335  0.         14.65993327  0.13888433\n",
            "  0.          0.         12.72315761]\n",
            "Minimum energy: -220.33683141910095\n"
          ]
        }
      ]
    },
    {
      "cell_type": "code",
      "source": [
        "# Generate uniformly distributed starting points\n",
        "num_starting_points = 3000\n",
        "starting_points = np.array([\n",
        "    [np.random.uniform(b[0], b[1]) for b in opt_bounds]\n",
        "    for _ in range(num_starting_points)\n",
        "])\n",
        "\n",
        "# Perform optimization from each starting point\n",
        "optimization_results = []\n",
        "for start in starting_points:\n",
        "    res = minimize(\n",
        "        objective_function,\n",
        "        x0=start,\n",
        "        args=(gp_model,),\n",
        "        bounds=opt_bounds,\n",
        "        method='L-BFGS-B'\n",
        "    )\n",
        "    optimization_results.append(res)\n",
        "\n",
        "# Extract the best result\n",
        "best_result = min(optimization_results, key=lambda r: r.fun)\n",
        "\n",
        "# Output results\n",
        "print(\"Optimization Results:\")\n",
        "print(f\"Optimal location: {best_result.x}\")\n",
        "print(f\"Minimum energy: {best_result.fun}\")"
      ],
      "metadata": {
        "id": "iTkhwWWUZw3D",
        "outputId": "fc219018-afd8-4252-d0d9-de76e319384e",
        "colab": {
          "base_uri": "https://localhost:8080/"
        }
      },
      "execution_count": null,
      "outputs": [
        {
          "output_type": "stream",
          "name": "stdout",
          "text": [
            "Optimization Results:\n",
            "Optimal location: [ 5.90378772 -0.07029669  0.73209729  0.         25.76122202 -0.07140874\n",
            "  0.          0.         16.81927526]\n",
            "Minimum energy: -263.14753768202024\n"
          ]
        }
      ]
    },
    {
      "cell_type": "code",
      "source": [
        "# Generate uniformly distributed starting points\n",
        "num_starting_points = 4000\n",
        "starting_points = np.array([\n",
        "    [np.random.uniform(b[0], b[1]) for b in opt_bounds]\n",
        "    for _ in range(num_starting_points)\n",
        "])\n",
        "\n",
        "# Perform optimization from each starting point\n",
        "optimization_results = []\n",
        "for start in starting_points:\n",
        "    res = minimize(\n",
        "        objective_function,\n",
        "        x0=start,\n",
        "        args=(gp_model,),\n",
        "        bounds=opt_bounds,\n",
        "        method='L-BFGS-B'\n",
        "    )\n",
        "    optimization_results.append(res)\n",
        "\n",
        "# Extract the best result\n",
        "best_result = min(optimization_results, key=lambda r: r.fun)\n",
        "\n",
        "# Output results\n",
        "print(\"Optimization Results:\")\n",
        "print(f\"Optimal location: {best_result.x}\")\n",
        "print(f\"Minimum energy: {best_result.fun}\")"
      ],
      "metadata": {
        "id": "AFoHuJE5Zy33",
        "outputId": "77b77f48-d0ac-4a62-d419-df6d3d39cf29",
        "colab": {
          "base_uri": "https://localhost:8080/"
        }
      },
      "execution_count": null,
      "outputs": [
        {
          "output_type": "stream",
          "name": "stdout",
          "text": [
            "Optimization Results:\n",
            "Optimal location: [ 5.90378559 -0.07026526  0.7321278   0.         25.76125543 -0.07139537\n",
            "  0.          0.         16.81926775]\n",
            "Minimum energy: -263.1475376783168\n"
          ]
        }
      ]
    },
    {
      "cell_type": "code",
      "source": [
        "# Generate uniformly distributed starting points\n",
        "num_starting_points = 5000\n",
        "starting_points = np.array([\n",
        "    [np.random.uniform(b[0], b[1]) for b in opt_bounds]\n",
        "    for _ in range(num_starting_points)\n",
        "])\n",
        "\n",
        "# Perform optimization from each starting point\n",
        "optimization_results = []\n",
        "for start in starting_points:\n",
        "    res = minimize(\n",
        "        objective_function,\n",
        "        x0=start,\n",
        "        args=(gp_model,),\n",
        "        bounds=opt_bounds,\n",
        "        method='L-BFGS-B'\n",
        "    )\n",
        "    optimization_results.append(res)\n",
        "\n",
        "# Extract the best result\n",
        "best_result = min(optimization_results, key=lambda r: r.fun)\n",
        "\n",
        "# Output results\n",
        "print(\"Optimization Results:\")\n",
        "print(f\"Optimal location: {best_result.x}\")\n",
        "print(f\"Minimum energy: {best_result.fun}\")"
      ],
      "metadata": {
        "id": "gXkT4QyvZ_mc",
        "outputId": "5415ac21-a130-4060-8eda-fe7ab61af878",
        "colab": {
          "base_uri": "https://localhost:8080/"
        }
      },
      "execution_count": null,
      "outputs": [
        {
          "output_type": "stream",
          "name": "stdout",
          "text": [
            "Optimization Results:\n",
            "Optimal location: [ 5.90376736 -0.07028257  0.73211419  0.         25.76125662 -0.07141754\n",
            "  0.          0.         16.81924662]\n",
            "Minimum energy: -263.1475376964545\n"
          ]
        }
      ]
    },
    {
      "cell_type": "code",
      "source": [
        "# check\n",
        "predict_energy(gp_model, [5.90376736, -0.07028257, 0.73211419, 0., 25.76125662, -0.0714175, 0., 0., 16.81924662])"
      ],
      "metadata": {
        "id": "1C3XlH3Ddvr_",
        "outputId": "06ba23da-da63-44d8-c200-a95aa6b6eaa7",
        "colab": {
          "base_uri": "https://localhost:8080/"
        }
      },
      "execution_count": 19,
      "outputs": [
        {
          "output_type": "execute_result",
          "data": {
            "text/plain": [
              "-263.14721975006586"
            ]
          },
          "metadata": {},
          "execution_count": 19
        }
      ]
    },
    {
      "cell_type": "code",
      "source": [
        "# Generate uniformly distributed starting points\n",
        "num_starting_points = 6000\n",
        "starting_points = np.array([\n",
        "    [np.random.uniform(b[0], b[1]) for b in opt_bounds]\n",
        "    for _ in range(num_starting_points)\n",
        "])\n",
        "\n",
        "# Perform optimization from each starting point\n",
        "optimization_results = []\n",
        "for start in starting_points:\n",
        "    res = minimize(\n",
        "        objective_function,\n",
        "        x0=start,\n",
        "        args=(gp_model,),\n",
        "        bounds=opt_bounds,\n",
        "        method='L-BFGS-B'\n",
        "    )\n",
        "    optimization_results.append(res)\n",
        "\n",
        "# Extract the best result\n",
        "best_result = min(optimization_results, key=lambda r: r.fun)\n",
        "\n",
        "# Output results\n",
        "print(\"Optimization Results:\")\n",
        "print(f\"Optimal location: {best_result.x}\")\n",
        "print(f\"Minimum energy: {best_result.fun}\")"
      ],
      "metadata": {
        "id": "wtrVn7NqaB1g",
        "outputId": "e0a7ceeb-fe63-4487-accc-caab9944373a",
        "colab": {
          "base_uri": "https://localhost:8080/"
        }
      },
      "execution_count": null,
      "outputs": [
        {
          "output_type": "stream",
          "name": "stdout",
          "text": [
            "Optimization Results:\n",
            "Optimal location: [ 6.28298183e+00 -1.34479926e-02  7.89073649e-01  0.00000000e+00\n",
            "  3.83076179e+01 -8.27757540e-03  0.00000000e+00  0.00000000e+00\n",
            "  9.42173910e+00]\n",
            "Minimum energy: -245.6800416879941\n"
          ]
        }
      ]
    },
    {
      "cell_type": "code",
      "source": [
        "# check\n",
        "predict_energy(gp_model, [ 6.28298183e+00, -1.34479926e-02 , 7.89073649e-01 , 0.00000000e+00,\n",
        "  3.83076179e+01, -8.27757540e-03,  0.00000000e+00,  0.00000000e+00,\n",
        "  9.42173910e+00])"
      ],
      "metadata": {
        "id": "XxYIwIdhaErB",
        "outputId": "c623d3fb-c4f5-45d2-da52-eea8d2fe2c77",
        "colab": {
          "base_uri": "https://localhost:8080/"
        }
      },
      "execution_count": 21,
      "outputs": [
        {
          "output_type": "execute_result",
          "data": {
            "text/plain": [
              "-245.67946715265995"
            ]
          },
          "metadata": {},
          "execution_count": 21
        }
      ]
    },
    {
      "cell_type": "code",
      "source": [],
      "metadata": {
        "id": "J8Nys3whekhK"
      },
      "execution_count": null,
      "outputs": []
    }
  ]
}