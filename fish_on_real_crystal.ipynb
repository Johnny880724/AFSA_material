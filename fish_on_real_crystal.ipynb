{
  "nbformat": 4,
  "nbformat_minor": 0,
  "metadata": {
    "colab": {
      "provenance": [],
      "mount_file_id": "16Mo-X29KAa2-mN2lru_89VnQvqG1aVVw",
      "authorship_tag": "ABX9TyNb8p1FiFr+7l/sCPFeW51p",
      "include_colab_link": true
    },
    "kernelspec": {
      "name": "python3",
      "display_name": "Python 3"
    },
    "language_info": {
      "name": "python"
    }
  },
  "cells": [
    {
      "cell_type": "markdown",
      "metadata": {
        "id": "view-in-github",
        "colab_type": "text"
      },
      "source": [
        "<a href=\"https://colab.research.google.com/github/Johnny880724/AFSA_material/blob/main/fish_on_real_crystal.ipynb\" target=\"_parent\"><img src=\"https://colab.research.google.com/assets/colab-badge.svg\" alt=\"Open In Colab\"/></a>"
      ]
    },
    {
      "cell_type": "code",
      "execution_count": 1,
      "metadata": {
        "colab": {
          "base_uri": "https://localhost:8080/"
        },
        "id": "X-_P1lRheu7P",
        "outputId": "d8558e27-88c2-41c2-9526-ce2de4896a42"
      },
      "outputs": [
        {
          "output_type": "stream",
          "name": "stdout",
          "text": [
            "Mounted at /content/drive\n",
            "Matrix Loaded from File:\n",
            "[-1.532579e+02  4.961000e+00  6.140000e-16 -3.787000e+00  0.000000e+00\n",
            "  1.864000e+01  4.770000e-15  0.000000e+00  0.000000e+00  6.941000e+00]\n"
          ]
        }
      ],
      "source": [
        "# Step 1: Mount Google Drive to access your files\n",
        "from google.colab import drive\n",
        "drive.mount('/content/drive')\n",
        "\n",
        "# Step 2: Import necessary libraries\n",
        "import numpy as np\n",
        "\n",
        "# Step 3: Define the path to your .txt file\n",
        "# You can find the path after mounting your Google Drive.\n",
        "# Make sure to adjust the path based on where your file is located in Drive.\n",
        "file_path = '/content/drive/MyDrive/crystal data/5A_parsed_file.txt'\n",
        "\n",
        "# Step 4: Load the .txt file into a NumPy array\n",
        "# Assuming the file is space-separated, but adjust delimiter if needed\n",
        "matrix = np.loadtxt(file_path)\n",
        "\n",
        "# Step 5: Display the matrix\n",
        "\n",
        "print(\"Matrix Loaded from File:\")\n",
        "print(matrix[1])\n"
      ]
    },
    {
      "cell_type": "markdown",
      "source": [
        "MultiGaussian fitting"
      ],
      "metadata": {
        "id": "nMlk0APbe9ZO"
      }
    },
    {
      "cell_type": "code",
      "source": [
        "import numpy as np\n",
        "from sklearn.gaussian_process import GaussianProcessRegressor\n",
        "from sklearn.gaussian_process.kernels import RBF, ConstantKernel as C\n",
        "\n",
        "def fit_gaussian_process(input_array):\n",
        "    \"\"\"\n",
        "    Fit a Gaussian Process model to the provided n-dimensional array.\n",
        "\n",
        "    Args:\n",
        "    - input_array (np.ndarray): The n-dimensional array where the first row contains energy (z-values)\n",
        "                                and the subsequent rows represent the coordinates in n-dimensional space.\n",
        "\n",
        "    Returns:\n",
        "    - gp (GaussianProcessRegressor): The trained Gaussian Process model.\n",
        "    \"\"\"\n",
        "    # Separate the energy (first row) and location data (other rows)\n",
        "    energy_values = input_array[0, :]  # Energy values (z)\n",
        "    location_data = input_array[1:, :].T  # Location data (x, y, ...)\n",
        "\n",
        "    # Define the kernel: we use a product of constant kernel and RBF kernel (Gaussian kernel)\n",
        "    kernel = C(1.0, (1e-4, 1e1)) * RBF(1.0, (1e-4, 1e1))  # Constant * RBF kernel\n",
        "\n",
        "    # Initialize the GaussianProcessRegressor with the kernel\n",
        "    gp = GaussianProcessRegressor(kernel=kernel, n_restarts_optimizer=10)\n",
        "\n",
        "    # Fit the GP model to the data\n",
        "    gp.fit(location_data, energy_values)\n",
        "\n",
        "    return gp\n",
        "\n",
        "def predict_energy(gp, location):\n",
        "    \"\"\"\n",
        "    Predict the energy at a given location using the fitted Gaussian Process model.\n",
        "\n",
        "    Args:\n",
        "    - gp (GaussianProcessRegressor): The trained Gaussian Process model.\n",
        "    - location (np.ndarray): The location for which to predict the energy.\n",
        "\n",
        "    Returns:\n",
        "    - energy (float): The predicted energy at the given location.\n",
        "    \"\"\"\n",
        "    # Ensure the location is in the right shape (1 x n_dim)\n",
        "    location = np.array(location).reshape(1, -1)\n",
        "\n",
        "    # Use the Gaussian Process model to predict the energy at the specified location\n",
        "    energy, _ = gp.predict(location, return_std=True)\n",
        "\n",
        "    return energy[0]  # Return the predicted energy value\n",
        "\n",
        "# Example Usage:\n",
        "# Input: An example n-dimensional array where the first row is energy, and others are coordinates.\n",
        "input_array = np.array([\n",
        "    [1.0, 2.0, 3.0, 4.0],  # Energy (z-values)\n",
        "    [0.0, 1.0, 2.0, 3.0],  # Location 1 (x)\n",
        "    [1.0, 1.5, 2.0, 2.5],  # Location 2 (y)\n",
        "])\n",
        "\n",
        "# Fit the Gaussian Process model to the input data\n",
        "gp_model = fit_gaussian_process(matrix.T)\n",
        "\n",
        "# Predict the energy at a new location (e.g., at location [2.5, 2.0])\n",
        "new_location = [0,1,0,0,0,1,1,0,1]\n",
        "\n",
        "predicted_energy = predict_energy(gp_model, new_location)\n",
        "\n",
        "# Output the predicted energy\n",
        "print(f\"Predicted energy at location {new_location}: {predicted_energy}\")\n"
      ],
      "metadata": {
        "id": "gJv6IZOge81U",
        "outputId": "afd60175-05ee-4174-f57f-28806bab0d6c",
        "colab": {
          "base_uri": "https://localhost:8080/"
        }
      },
      "execution_count": 4,
      "outputs": [
        {
          "output_type": "stream",
          "name": "stdout",
          "text": [
            "Predicted energy at location [0, 1, 0, 0, 0, 1, 1, 0, 1]: -0.00044713430777307094\n"
          ]
        },
        {
          "output_type": "stream",
          "name": "stderr",
          "text": [
            "/usr/local/lib/python3.10/dist-packages/sklearn/gaussian_process/kernels.py:452: ConvergenceWarning: The optimal value found for dimension 0 of parameter k1__constant_value is close to the specified upper bound 10.0. Increasing the bound and calling fit again may find a better value.\n",
            "  warnings.warn(\n"
          ]
        }
      ]
    },
    {
      "cell_type": "markdown",
      "source": [
        "Fish sworm\n"
      ],
      "metadata": {
        "id": "libmu8-1e3KN"
      }
    },
    {
      "cell_type": "code",
      "source": [
        "import numpy as np\n",
        "\n",
        "class ArtificialFishSwarm:\n",
        "    def __init__(self, objective_function, n_dim, population_size=50, max_iter=100, step_size=0.5, visual_range=1.0, max_steps=10):\n",
        "        \"\"\"\n",
        "        Initialize the Artificial Fish Swarm algorithm.\n",
        "\n",
        "        :param objective_function: The objective function to minimize (or maximize).\n",
        "        :param n_dim: The number of dimensions in the search space.\n",
        "        :param population_size: The number of fish (individuals) in the swarm.\n",
        "        :param max_iter: The maximum number of iterations to run the algorithm.\n",
        "        :param step_size: The step size for fish movement.\n",
        "        :param visual_range: The visual range of each fish to explore.\n",
        "        :param max_steps: The maximum number of steps a fish can take in one iteration.\n",
        "        \"\"\"\n",
        "        self.objective_function = objective_function\n",
        "        self.n_dim = n_dim\n",
        "        self.population_size = population_size\n",
        "        self.max_iter = max_iter\n",
        "        self.step_size = step_size\n",
        "        self.visual_range = visual_range\n",
        "        self.max_steps = max_steps\n",
        "\n",
        "        # Initialize the fish population\n",
        "        self.population = np.random.uniform(-10, 10, (self.population_size, self.n_dim))  # Adjust bounds if necessary\n",
        "        self.fitness = np.apply_along_axis(self.objective_function, 1, self.population)\n",
        "\n",
        "        # Initialize the best solution\n",
        "        self.best_fish = self.population[np.argmin(self.fitness)]\n",
        "        self.best_fitness = np.min(self.fitness)\n",
        "\n",
        "    def move_fish(self, fish, target):\n",
        "        \"\"\"\n",
        "        Move a fish towards a target fish.\n",
        "\n",
        "        :param fish: The current fish position.\n",
        "        :param target: The target fish position.\n",
        "        :return: The new position of the fish.\n",
        "        \"\"\"\n",
        "        direction = target - fish\n",
        "        distance = np.linalg.norm(direction)\n",
        "\n",
        "        if distance > 0:\n",
        "            direction = direction / distance  # Normalize direction\n",
        "\n",
        "        # Move the fish in the direction of the target\n",
        "        new_position = fish + self.step_size * direction\n",
        "\n",
        "        # Ensure new position is within bounds\n",
        "        return np.clip(new_position, -10, 10)\n",
        "\n",
        "    def search_neighborhood(self, fish):\n",
        "        \"\"\"\n",
        "        Search the neighborhood of the fish and move to the best food source.\n",
        "\n",
        "        :param fish: The current fish position.\n",
        "        :return: The best position found in the neighborhood.\n",
        "        \"\"\"\n",
        "        best_fish_in_neighborhood = fish\n",
        "        best_fitness_in_neighborhood = self.objective_function(fish)\n",
        "\n",
        "        # Randomly search for a better position within visual range\n",
        "        for _ in range(self.max_steps):\n",
        "            move_direction = np.random.uniform(-self.visual_range, self.visual_range, self.n_dim)\n",
        "            new_fish = fish + move_direction\n",
        "\n",
        "            # Ensure new fish position is within bounds\n",
        "            new_fish = np.clip(new_fish, -10, 10)\n",
        "\n",
        "            new_fitness = self.objective_function(new_fish)\n",
        "\n",
        "            # If the new position is better, update the best fish\n",
        "            if new_fitness < best_fitness_in_neighborhood:\n",
        "                best_fish_in_neighborhood = new_fish\n",
        "                best_fitness_in_neighborhood = new_fitness\n",
        "\n",
        "        return best_fish_in_neighborhood\n",
        "\n",
        "    def run(self):\n",
        "        \"\"\"\n",
        "        Run the Artificial Fish Swarm algorithm.\n",
        "\n",
        "        :return: The best solution found and its fitness value.\n",
        "        \"\"\"\n",
        "        for iteration in range(self.max_iter):\n",
        "            for i in range(self.population_size):\n",
        "                fish = self.population[i]\n",
        "\n",
        "                # Search the neighborhood of the fish\n",
        "                best_fish_in_neighborhood = self.search_neighborhood(fish)\n",
        "\n",
        "                # Move towards the best fish in the neighborhood\n",
        "                new_fish = self.move_fish(fish, best_fish_in_neighborhood)\n",
        "\n",
        "                # Evaluate fitness of the new fish\n",
        "                new_fitness = self.objective_function(new_fish)\n",
        "\n",
        "                # If the new position is better, update the fish and the best solution\n",
        "                if new_fitness < self.fitness[i]:\n",
        "                    self.population[i] = new_fish\n",
        "                    self.fitness[i] = new_fitness\n",
        "\n",
        "                    # Update global best solution\n",
        "                    if new_fitness < self.best_fitness:\n",
        "                        self.best_fish = new_fish\n",
        "                        self.best_fitness = new_fitness\n",
        "\n",
        "            print(f\"Iteration {iteration+1}: Best Fitness = {self.best_fitness}\")\n",
        "\n",
        "        return self.best_fish, self.best_fitness\n",
        "\n",
        "# Example: Define a simple objective function (e.g., Rastrigin function)\n",
        "def objective_function(x):\n",
        "    \"\"\"\n",
        "    A sample objective function for optimization (Rastrigin function).\n",
        "    :param x: The input vector (N-dimensional).\n",
        "    :return: The fitness value.\n",
        "    \"\"\"\n",
        "    return 10 * len(x) + np.sum(x**2 - 10 * np.cos(2 * np.pi * x))\n",
        "\n",
        "# Example usage\n",
        "n_dim = 10  # N-dimensional search space\n",
        "population_size = 50\n",
        "max_iter = 100\n",
        "\n",
        "# Create and run the Artificial Fish Swarm Algorithm\n",
        "afsa = ArtificialFishSwarm(gp_model, n_dim, population_size, max_iter)\n",
        "best_solution, best_fitness = afsa.run()\n",
        "\n",
        "print(\"\\nBest Solution:\", best_solution)\n",
        "print(\"Best Fitness:\", best_fitness)\n"
      ],
      "metadata": {
        "colab": {
          "base_uri": "https://localhost:8080/",
          "height": 372
        },
        "id": "6SaKwqGOeILi",
        "outputId": "30d9b98e-5566-48a6-8fab-10184af52cb3"
      },
      "execution_count": 5,
      "outputs": [
        {
          "output_type": "error",
          "ename": "TypeError",
          "evalue": "'GaussianProcessRegressor' object is not callable",
          "traceback": [
            "\u001b[0;31m---------------------------------------------------------------------------\u001b[0m",
            "\u001b[0;31mTypeError\u001b[0m                                 Traceback (most recent call last)",
            "\u001b[0;32m<ipython-input-5-1f1e7c7dd3f4>\u001b[0m in \u001b[0;36m<cell line: 127>\u001b[0;34m()\u001b[0m\n\u001b[1;32m    125\u001b[0m \u001b[0;34m\u001b[0m\u001b[0m\n\u001b[1;32m    126\u001b[0m \u001b[0;31m# Create and run the Artificial Fish Swarm Algorithm\u001b[0m\u001b[0;34m\u001b[0m\u001b[0;34m\u001b[0m\u001b[0m\n\u001b[0;32m--> 127\u001b[0;31m \u001b[0mafsa\u001b[0m \u001b[0;34m=\u001b[0m \u001b[0mArtificialFishSwarm\u001b[0m\u001b[0;34m(\u001b[0m\u001b[0mgp_model\u001b[0m\u001b[0;34m,\u001b[0m \u001b[0mn_dim\u001b[0m\u001b[0;34m,\u001b[0m \u001b[0mpopulation_size\u001b[0m\u001b[0;34m,\u001b[0m \u001b[0mmax_iter\u001b[0m\u001b[0;34m)\u001b[0m\u001b[0;34m\u001b[0m\u001b[0;34m\u001b[0m\u001b[0m\n\u001b[0m\u001b[1;32m    128\u001b[0m \u001b[0mbest_solution\u001b[0m\u001b[0;34m,\u001b[0m \u001b[0mbest_fitness\u001b[0m \u001b[0;34m=\u001b[0m \u001b[0mafsa\u001b[0m\u001b[0;34m.\u001b[0m\u001b[0mrun\u001b[0m\u001b[0;34m(\u001b[0m\u001b[0;34m)\u001b[0m\u001b[0;34m\u001b[0m\u001b[0;34m\u001b[0m\u001b[0m\n\u001b[1;32m    129\u001b[0m \u001b[0;34m\u001b[0m\u001b[0m\n",
            "\u001b[0;32m<ipython-input-5-1f1e7c7dd3f4>\u001b[0m in \u001b[0;36m__init__\u001b[0;34m(self, objective_function, n_dim, population_size, max_iter, step_size, visual_range, max_steps)\u001b[0m\n\u001b[1;32m     24\u001b[0m         \u001b[0;31m# Initialize the fish population\u001b[0m\u001b[0;34m\u001b[0m\u001b[0;34m\u001b[0m\u001b[0m\n\u001b[1;32m     25\u001b[0m         \u001b[0mself\u001b[0m\u001b[0;34m.\u001b[0m\u001b[0mpopulation\u001b[0m \u001b[0;34m=\u001b[0m \u001b[0mnp\u001b[0m\u001b[0;34m.\u001b[0m\u001b[0mrandom\u001b[0m\u001b[0;34m.\u001b[0m\u001b[0muniform\u001b[0m\u001b[0;34m(\u001b[0m\u001b[0;34m-\u001b[0m\u001b[0;36m10\u001b[0m\u001b[0;34m,\u001b[0m \u001b[0;36m10\u001b[0m\u001b[0;34m,\u001b[0m \u001b[0;34m(\u001b[0m\u001b[0mself\u001b[0m\u001b[0;34m.\u001b[0m\u001b[0mpopulation_size\u001b[0m\u001b[0;34m,\u001b[0m \u001b[0mself\u001b[0m\u001b[0;34m.\u001b[0m\u001b[0mn_dim\u001b[0m\u001b[0;34m)\u001b[0m\u001b[0;34m)\u001b[0m  \u001b[0;31m# Adjust bounds if necessary\u001b[0m\u001b[0;34m\u001b[0m\u001b[0;34m\u001b[0m\u001b[0m\n\u001b[0;32m---> 26\u001b[0;31m         \u001b[0mself\u001b[0m\u001b[0;34m.\u001b[0m\u001b[0mfitness\u001b[0m \u001b[0;34m=\u001b[0m \u001b[0mnp\u001b[0m\u001b[0;34m.\u001b[0m\u001b[0mapply_along_axis\u001b[0m\u001b[0;34m(\u001b[0m\u001b[0mself\u001b[0m\u001b[0;34m.\u001b[0m\u001b[0mobjective_function\u001b[0m\u001b[0;34m,\u001b[0m \u001b[0;36m1\u001b[0m\u001b[0;34m,\u001b[0m \u001b[0mself\u001b[0m\u001b[0;34m.\u001b[0m\u001b[0mpopulation\u001b[0m\u001b[0;34m)\u001b[0m\u001b[0;34m\u001b[0m\u001b[0;34m\u001b[0m\u001b[0m\n\u001b[0m\u001b[1;32m     27\u001b[0m \u001b[0;34m\u001b[0m\u001b[0m\n\u001b[1;32m     28\u001b[0m         \u001b[0;31m# Initialize the best solution\u001b[0m\u001b[0;34m\u001b[0m\u001b[0;34m\u001b[0m\u001b[0m\n",
            "\u001b[0;32m/usr/local/lib/python3.10/dist-packages/numpy/lib/shape_base.py\u001b[0m in \u001b[0;36mapply_along_axis\u001b[0;34m(func1d, axis, arr, *args, **kwargs)\u001b[0m\n\u001b[1;32m    377\u001b[0m             \u001b[0;34m'Cannot apply_along_axis when any iteration dimensions are 0'\u001b[0m\u001b[0;34m\u001b[0m\u001b[0;34m\u001b[0m\u001b[0m\n\u001b[1;32m    378\u001b[0m         ) from None\n\u001b[0;32m--> 379\u001b[0;31m     \u001b[0mres\u001b[0m \u001b[0;34m=\u001b[0m \u001b[0masanyarray\u001b[0m\u001b[0;34m(\u001b[0m\u001b[0mfunc1d\u001b[0m\u001b[0;34m(\u001b[0m\u001b[0minarr_view\u001b[0m\u001b[0;34m[\u001b[0m\u001b[0mind0\u001b[0m\u001b[0;34m]\u001b[0m\u001b[0;34m,\u001b[0m \u001b[0;34m*\u001b[0m\u001b[0margs\u001b[0m\u001b[0;34m,\u001b[0m \u001b[0;34m**\u001b[0m\u001b[0mkwargs\u001b[0m\u001b[0;34m)\u001b[0m\u001b[0;34m)\u001b[0m\u001b[0;34m\u001b[0m\u001b[0;34m\u001b[0m\u001b[0m\n\u001b[0m\u001b[1;32m    380\u001b[0m \u001b[0;34m\u001b[0m\u001b[0m\n\u001b[1;32m    381\u001b[0m     \u001b[0;31m# build a buffer for storing evaluations of func1d.\u001b[0m\u001b[0;34m\u001b[0m\u001b[0;34m\u001b[0m\u001b[0m\n",
            "\u001b[0;31mTypeError\u001b[0m: 'GaussianProcessRegressor' object is not callable"
          ]
        }
      ]
    },
    {
      "cell_type": "code",
      "source": [],
      "metadata": {
        "id": "aiMGDqzdf-Wt"
      },
      "execution_count": null,
      "outputs": []
    }
  ]
}