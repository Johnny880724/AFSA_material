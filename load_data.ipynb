{
 "cells": [
  {
   "cell_type": "code",
   "execution_count": 37,
   "id": "48111612",
   "metadata": {},
   "outputs": [],
   "source": [
    "import sys, os\n",
    "import numpy as np\n",
    "import matplotlib.pyplot as plt"
   ]
  },
  {
   "cell_type": "code",
   "execution_count": null,
   "id": "840eaf2c",
   "metadata": {},
   "outputs": [],
   "source": []
  },
  {
   "cell_type": "code",
   "execution_count": 57,
   "id": "243cb755",
   "metadata": {},
   "outputs": [
    {
     "name": "stdout",
     "output_type": "stream",
     "text": [
      "/Users/btsao/Downloads/cphy_final_project\n"
     ]
    }
   ],
   "source": [
    "cur_path = os.getcwd()\n",
    "print(cur_path)\n",
    "file_path = cur_path+\"/ESI_paper_Molecular_Crystals/5A/\"\n",
    "filename_xyz  = \"traj-5A.xyz\"\n",
    "filename_prop = \"traj-5A.prop\""
   ]
  },
  {
   "cell_type": "code",
   "execution_count": 58,
   "id": "c43229ba",
   "metadata": {},
   "outputs": [],
   "source": [
    "lattice_vec = []\n",
    "# Filter and read only lines that start with \"Lattice\"\n",
    "with open(file_path + filename_xyz, 'r') as file:\n",
    "    \n",
    "    lattice_lines = [line.strip() for line in file if line.startswith(\"Lattice\")]\n",
    "    \n",
    "    for lattice_line in lattice_lines:\n",
    "        # Step 1: Extract the part after \"Lattice=\"\n",
    "        lattice_values = lattice_line.split('=')[1]\n",
    "        # Step 2: Find the first and last occurrence of the quotation mark\n",
    "        start_quote_index = lattice_line.find('\"')  # Find the first quote\n",
    "        end_quote_index = lattice_line.rfind('\"')    # Find the last quote\n",
    "        # Step 3: Slice the string to get only the numbers inside the quotes\n",
    "        # Since we want the part before the last quote, we use start_quote_index + 1\n",
    "        cleaned_numbers = lattice_line[start_quote_index + 1:end_quote_index]\n",
    "\n",
    "        # Step 2: Split the string into individual number strings and convert to floats\n",
    "        lattice_numbers = [float(value) for value in cleaned_numbers.split()]\n",
    "        lattice_vec.append(np.array(lattice_numbers))\n",
    "lattice_vec = np.array(lattice_vec)"
   ]
  },
  {
   "cell_type": "code",
   "execution_count": null,
   "id": "6c28271b",
   "metadata": {},
   "outputs": [],
   "source": []
  },
  {
   "cell_type": "code",
   "execution_count": null,
   "id": "dcaa7be2",
   "metadata": {},
   "outputs": [],
   "source": []
  },
  {
   "cell_type": "code",
   "execution_count": 59,
   "id": "2603d80f",
   "metadata": {},
   "outputs": [],
   "source": [
    "lattice_eng = []\n",
    "with open(file_path + filename_prop, 'r') as file:\n",
    "    # Load the data\n",
    "    # Note: usecols specifies the columns to load\n",
    "    parsed_data = np.loadtxt(file, dtype={\n",
    "    'names': ('Energy', 'Classification', 'Cutoff_3A', 'Cutoff_5A'),\n",
    "    'formats': ('f8', 'U10', 'i4', 'i4')\n",
    "    })\n",
    "    for (eng, _, _, _) in parsed_data:\n",
    "        lattice_eng.append(float(eng))\n",
    "        \n",
    "lattice_eng = np.array(lattice_eng)\n",
    "# print(lattice_eng)\n",
    "    "
   ]
  },
  {
   "cell_type": "code",
   "execution_count": 60,
   "id": "850a25ae",
   "metadata": {},
   "outputs": [
    {
     "name": "stdout",
     "output_type": "stream",
     "text": [
      "(594, 9)\n",
      "(594,)\n"
     ]
    }
   ],
   "source": [
    "print(lattice_vec.shape)\n",
    "print(lattice_eng.shape)"
   ]
  },
  {
   "cell_type": "code",
   "execution_count": 62,
   "id": "6714279a",
   "metadata": {},
   "outputs": [],
   "source": [
    "# Combine the vectors and energy into a single 2D array\n",
    "data_to_save = np.column_stack((lattice_eng, lattice_vec))  # This creates a (594, 5) array\n",
    "\n",
    "# Save to a text file\n",
    "np.savetxt(\"5A_parsed_file.txt\", data_to_save, header=\"Energy V1 V2 V3 V4 V5 V6 V7 V8 V9\", fmt='%.6e')\n"
   ]
  },
  {
   "cell_type": "code",
   "execution_count": null,
   "id": "ddd6ca8b",
   "metadata": {},
   "outputs": [],
   "source": []
  }
 ],
 "metadata": {
  "kernelspec": {
   "display_name": "Python 3.12.4 64-bit ('hwenv': conda)",
   "language": "python",
   "name": "python3124jvsc74a57bd0914e686cc6dff387d5734e9ba3411bb04151d7396dd7f8dba89547ccdbc25c91"
  },
  "language_info": {
   "codemirror_mode": {
    "name": "ipython",
    "version": 3
   },
   "file_extension": ".py",
   "mimetype": "text/x-python",
   "name": "python",
   "nbconvert_exporter": "python",
   "pygments_lexer": "ipython3",
   "version": "3.12.4"
  }
 },
 "nbformat": 4,
 "nbformat_minor": 5
}
